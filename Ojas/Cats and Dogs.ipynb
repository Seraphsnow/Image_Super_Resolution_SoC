{
 "cells": [
  {
   "cell_type": "code",
   "execution_count": 1,
   "id": "6d57fa9e",
   "metadata": {},
   "outputs": [],
   "source": [
    "import cv2, numpy as np, matplotlib.pyplot as plt, os\n",
    "from tqdm import tqdm\n",
    "from torchvision import transforms\n",
    "from torchvision.datasets import ImageFolder\n",
    "from torchvision import transforms, datasets\n",
    "from PIL import Image\n",
    "import torch\n",
    "import torch.nn as nn\n",
    "import torch.nn.functional as F\n",
    "import os\n",
    "from PIL import Image\n",
    "from torchvision.datasets import ImageFolder\n",
    "from torchvision.transforms import ToTensor\n",
    "from torch.utils.data import DataLoader\n",
    "import torch.optim as optim\n"
   ]
  },
  {
   "cell_type": "code",
   "execution_count": 2,
   "id": "5803892a",
   "metadata": {
    "scrolled": false
   },
   "outputs": [
    {
     "name": "stdout",
     "output_type": "stream",
     "text": [
      "Dataset CustomImageFolder\n",
      "    Number of datapoints: 8000\n",
      "    Root location: /home/ojmaha/Documents/SoC/archive (1)/dog vs cat/dataset/training_set\n",
      "    StandardTransform\n",
      "Transform: Compose(\n",
      "               Grayscale(num_output_channels=1)\n",
      "               Resize(size=(50, 50), interpolation=bilinear, max_size=None, antialias=warn)\n",
      "               ToTensor()\n",
      "           )\n"
     ]
    }
   ],
   "source": [
    "# Set the path to your dataset folder\n",
    "dataset_path = '/home/ojmaha/Documents/SoC/archive (1)/dog vs cat/dataset/training_set'\n",
    "\n",
    "# Define the transformations to be applied to each image\n",
    "transform = transforms.Compose([\n",
    "    transforms.Grayscale(),\n",
    "    transforms.Resize((50, 50)),  # Resize the images to a specific size\n",
    "    transforms.ToTensor(),          # Convert the images to tensors\n",
    "    ])\n",
    "\n",
    "# Function to check if a file is a valid JPEG image\n",
    "def is_valid_image(file_path):\n",
    "    try:\n",
    "        with Image.open(file_path) as img:\n",
    "            img.verify()\n",
    "            return True\n",
    "    except (IOError, SyntaxError) as e:\n",
    "        return False\n",
    "\n",
    "# Custom Dataset class to handle corrupted or non-JPEG files\n",
    "class CustomImageFolder(ImageFolder):\n",
    "    def __getitem__(self, index):\n",
    "        path, target = self.samples[index]\n",
    "        if self.transform is not None:\n",
    "            try:\n",
    "                img = self.transform(Image.open(path))\n",
    "                return img, target\n",
    "            except (IOError, SyntaxError) as e:\n",
    "                pass\n",
    "\n",
    "# Create the CustomImageFolder dataset\n",
    "dataset = CustomImageFolder(root=dataset_path, transform=transform)\n",
    "\n",
    "# Create the DataLoader\n",
    "dataloader = DataLoader(dataset, batch_size=len(dataset), shuffle=True)\n",
    "\n",
    "for X, y in dataloader:\n",
    "    break  # Since we only need to iterate once to get the entire dataset\n",
    "\n",
    "print(dataset)\n"
   ]
  },
  {
   "cell_type": "code",
   "execution_count": 3,
   "id": "e5d1442c",
   "metadata": {},
   "outputs": [
    {
     "name": "stdout",
     "output_type": "stream",
     "text": [
      "torch.Size([1, 50, 50])\n"
     ]
    }
   ],
   "source": [
    "print(dataset[0][0].shape\n",
    "     )"
   ]
  },
  {
   "cell_type": "code",
   "execution_count": 4,
   "id": "c4b892a8",
   "metadata": {},
   "outputs": [
    {
     "data": {
      "image/png": "[encoded data removed]",
      "text/plain": [
       "<Figure size 640x480 with 1 Axes>"
      ]
     },
     "metadata": {},
     "output_type": "display_data"
    }
   ],
   "source": [
    "\n",
    "# Select a cat image from the dataset\n",
    "cat_image_index = 7689  # Adjust this index according to the image you want to display\n",
    "\n",
    "# Access the image tensor from the dataset\n",
    "cat_image_tensor, f = dataset[cat_image_index]\n",
    "\n",
    "# Convert the image tensor to a NumPy array\n",
    "cat_image_np = cat_image_tensor.numpy()\n",
    "# Transpose the array to match the shape expected by Matplotlib (C, H, W -> H, W, C)\n",
    "cat_image_np = cat_image_np.transpose(1, 2, 0)\n",
    "\n",
    "# Display the cat image\n",
    "plt.imshow(cat_image_np)\n",
    "plt.axis('off')  # Turn off axis ticks and labels\n",
    "plt.show()\n"
   ]
  },
  {
   "cell_type": "code",
   "execution_count": 5,
   "id": "b010ec38",
   "metadata": {},
   "outputs": [
    {
     "name": "stdout",
     "output_type": "stream",
     "text": [
      "Net(\n",
      "  (conv1): Conv2d(1, 32, kernel_size=(5, 5), stride=(1, 1))\n",
      "  (conv2): Conv2d(32, 64, kernel_size=(5, 5), stride=(1, 1))\n",
      "  (conv3): Conv2d(64, 128, kernel_size=(5, 5), stride=(1, 1))\n",
      "  (fc1): Linear(in_features=512, out_features=512, bias=True)\n",
      "  (fc2): Linear(in_features=512, out_features=1, bias=True)\n",
      ")\n"
     ]
    }
   ],
   "source": [
    "class Net(nn.Module):\n",
    "    def __init__(self):\n",
    "        super().__init__() # just run the init of parent class (nn.Module)\n",
    "        self.conv1 = nn.Conv2d(1, 32, 5) # input is 1 image, 32 output channels, 5x5 kernel / window\n",
    "        self.conv2 = nn.Conv2d(32, 64, 5) # input is 32, bc the first layer output 32. Then we say the output will be 64 channels, 5x5 kernel / window\n",
    "        self.conv3 = nn.Conv2d(64, 128, 5)\n",
    "\n",
    "        x = torch.randn(50,50).view(-1,1,50,50)\n",
    "        self._to_linear = None\n",
    "        self.convs(x)\n",
    "\n",
    "        self.fc1 = nn.Linear(self._to_linear, 512) #flattening.\n",
    "        self.fc2 = nn.Linear(512, 1) # 512 in, 2 out bc we're doing 2 classes (dog vs cat).\n",
    "\n",
    "    def convs(self, x):\n",
    "        # max pooling over 2x2\n",
    "        x = F.max_pool2d(F.relu(self.conv1(x)), (2, 2))\n",
    "        x = F.max_pool2d(F.relu(self.conv2(x)), (2, 2))\n",
    "        x = F.max_pool2d(F.relu(self.conv3(x)), (2, 2))\n",
    "\n",
    "        if self._to_linear is None:\n",
    "            self._to_linear = x[0].shape[0]*x[0].shape[1]*x[0].shape[2]\n",
    "        return x\n",
    "\n",
    "    def forward(self, x):\n",
    "        x = self.convs(x)\n",
    "        x = x.view(-1, self._to_linear)  # .view is reshape ... this flattens X before \n",
    "        x = F.relu(self.fc1(x))\n",
    "        x = self.fc2(x) # bc this is our output layer. No activation here.\n",
    "        return x.squeeze(1)\n",
    "\n",
    "\n",
    "net = Net()\n",
    "print(net)"
   ]
  },
  {
   "cell_type": "code",
   "execution_count": 6,
   "id": "516722b2",
   "metadata": {},
   "outputs": [
    {
     "name": "stdout",
     "output_type": "stream",
     "text": [
      "800\n",
      "7200 800\n"
     ]
    }
   ],
   "source": [
    "X = []\n",
    "for i in dataset:\n",
    "    X.append(torch.Tensor(i[0]).view(-1, 50, 50))\n",
    "\n",
    "X = torch.stack(X, dim=0)\n",
    "X = X/255.0\n",
    "y = torch.Tensor([i[1] for i in dataset])\n",
    "VAL_PCT = 0.1  # lets reserve 10% of our data for validation\n",
    "val_size = int(len(X)*VAL_PCT)\n",
    "print(val_size)\n",
    "\n",
    "train_X = X[:-val_size]\n",
    "train_y = y[:-val_size]\n",
    "\n",
    "test_X = X[-val_size:]\n",
    "test_y = y[-val_size:]\n",
    "print(len(train_X), len(test_X))"
   ]
  },
  {
   "cell_type": "code",
   "execution_count": 9,
   "id": "2bbfca21",
   "metadata": {},
   "outputs": [
    {
     "name": "stderr",
     "output_type": "stream",
     "text": [
      "  0%|                                                    | 0/72 [00:00<?, ?it/s]"
     ]
    },
    {
     "name": "stdout",
     "output_type": "stream",
     "text": [
      "tensor(-0.0102, grad_fn=<SelectBackward0>)\n",
      "tensor([0.])\n"
     ]
    },
    {
     "name": "stderr",
     "output_type": "stream",
     "text": [
      "  6%|██▍                                         | 4/72 [00:02<00:32,  2.07it/s]"
     ]
    },
    {
     "name": "stdout",
     "output_type": "stream",
     "text": [
      "tensor(-0.1022, grad_fn=<SelectBackward0>)\n",
      "tensor([0.])\n",
      "tensor(-0.2868, grad_fn=<SelectBackward0>)\n",
      "tensor([0.])\n",
      "tensor(-0.6472, grad_fn=<SelectBackward0>)\n",
      "tensor([0.])\n"
     ]
    },
    {
     "name": "stderr",
     "output_type": "stream",
     "text": [
      "  8%|███▋                                        | 6/72 [00:03<00:18,  3.48it/s]"
     ]
    },
    {
     "name": "stdout",
     "output_type": "stream",
     "text": [
      "tensor(-1.2946, grad_fn=<SelectBackward0>)\n",
      "tensor([0.])\n",
      "tensor(-2.3900, grad_fn=<SelectBackward0>)\n",
      "tensor([0.])\n",
      "tensor(-4.0758, grad_fn=<SelectBackward0>)\n",
      "tensor([0.])\n",
      "tensor(-6.3175, grad_fn=<SelectBackward0>)\n",
      "tensor([0.])\n"
     ]
    },
    {
     "name": "stderr",
     "output_type": "stream",
     "text": [
      " 14%|█████▉                                     | 10/72 [00:03<00:09,  6.59it/s]"
     ]
    },
    {
     "name": "stdout",
     "output_type": "stream",
     "text": [
      "tensor(-8.9702, grad_fn=<SelectBackward0>)\n",
      "tensor([0.])\n",
      "tensor(-11.9406, grad_fn=<SelectBackward0>)\n",
      "tensor([0.])\n",
      "tensor(-15.1722, grad_fn=<SelectBackward0>)\n",
      "tensor([0.])\n",
      "tensor(-18.6450, grad_fn=<SelectBackward0>)\n",
      "tensor([0.])\n"
     ]
    },
    {
     "name": "stderr",
     "output_type": "stream",
     "text": [
      " 19%|████████▎                                  | 14/72 [00:03<00:06,  9.59it/s]"
     ]
    },
    {
     "name": "stdout",
     "output_type": "stream",
     "text": [
      "tensor(-22.0683, grad_fn=<SelectBackward0>)\n",
      "tensor([0.])\n",
      "tensor(-25.7313, grad_fn=<SelectBackward0>)\n",
      "tensor([0.])\n",
      "tensor(-29.2441, grad_fn=<SelectBackward0>)\n",
      "tensor([0.])\n",
      "tensor(-32.7236, grad_fn=<SelectBackward0>)\n",
      "tensor([0.])\n"
     ]
    },
    {
     "name": "stderr",
     "output_type": "stream",
     "text": [
      " 25%|██████████▊                                | 18/72 [00:03<00:04, 11.78it/s]"
     ]
    },
    {
     "name": "stdout",
     "output_type": "stream",
     "text": [
      "tensor(-36.4075, grad_fn=<SelectBackward0>)\n",
      "tensor([0.])\n",
      "tensor(-39.6427, grad_fn=<SelectBackward0>)\n",
      "tensor([0.])\n",
      "tensor(-42.9296, grad_fn=<SelectBackward0>)\n",
      "tensor([0.])\n",
      "tensor(-46.0570, grad_fn=<SelectBackward0>)\n",
      "tensor([0.])\n"
     ]
    },
    {
     "name": "stderr",
     "output_type": "stream",
     "text": [
      " 31%|█████████████▏                             | 22/72 [00:04<00:03, 13.30it/s]"
     ]
    },
    {
     "name": "stdout",
     "output_type": "stream",
     "text": [
      "tensor(-49.1154, grad_fn=<SelectBackward0>)\n",
      "tensor([0.])\n",
      "tensor(-51.9947, grad_fn=<SelectBackward0>)\n",
      "tensor([0.])\n",
      "tensor(-54.5294, grad_fn=<SelectBackward0>)\n",
      "tensor([0.])\n",
      "tensor(-57.1026, grad_fn=<SelectBackward0>)\n",
      "tensor([0.])\n"
     ]
    },
    {
     "name": "stderr",
     "output_type": "stream",
     "text": [
      " 36%|███████████████▌                           | 26/72 [00:04<00:03, 13.24it/s]"
     ]
    },
    {
     "name": "stdout",
     "output_type": "stream",
     "text": [
      "tensor(-59.5736, grad_fn=<SelectBackward0>)\n",
      "tensor([0.])\n",
      "tensor(-62.1635, grad_fn=<SelectBackward0>)\n",
      "tensor([0.])\n",
      "tensor(-63.7761, grad_fn=<SelectBackward0>)\n",
      "tensor([0.])\n"
     ]
    },
    {
     "name": "stderr",
     "output_type": "stream",
     "text": [
      " 39%|████████████████▋                          | 28/72 [00:04<00:03, 12.23it/s]"
     ]
    },
    {
     "name": "stdout",
     "output_type": "stream",
     "text": [
      "tensor(-65.4652, grad_fn=<SelectBackward0>)\n",
      "tensor([0.])\n",
      "tensor(-67.8439, grad_fn=<SelectBackward0>)\n",
      "tensor([0.])\n",
      "tensor(-69.5320, grad_fn=<SelectBackward0>)\n",
      "tensor([0.])\n"
     ]
    },
    {
     "name": "stderr",
     "output_type": "stream",
     "text": [
      " 42%|█████████████████▉                         | 30/72 [00:04<00:03, 12.19it/s]"
     ]
    },
    {
     "name": "stdout",
     "output_type": "stream",
     "text": [
      "tensor(-70.8556, grad_fn=<SelectBackward0>)\n",
      "tensor([0.])\n",
      "tensor(-72.5173, grad_fn=<SelectBackward0>)\n",
      "tensor([0.])\n"
     ]
    },
    {
     "name": "stderr",
     "output_type": "stream",
     "text": [
      " 44%|███████████████████                        | 32/72 [00:05<00:03, 10.49it/s]"
     ]
    },
    {
     "name": "stdout",
     "output_type": "stream",
     "text": [
      "tensor(-73.5647, grad_fn=<SelectBackward0>)\n",
      "tensor([0.])\n",
      "tensor(-75.0595, grad_fn=<SelectBackward0>)\n",
      "tensor([0.])\n"
     ]
    },
    {
     "name": "stderr",
     "output_type": "stream",
     "text": [
      " 49%|████████████████████▉                      | 35/72 [00:05<00:04,  8.39it/s]"
     ]
    },
    {
     "name": "stdout",
     "output_type": "stream",
     "text": [
      "tensor(-76.3260, grad_fn=<SelectBackward0>)\n",
      "tensor([0.])\n",
      "tensor(-77.5618, grad_fn=<SelectBackward0>)\n",
      "tensor([0.])\n"
     ]
    },
    {
     "name": "stderr",
     "output_type": "stream",
     "text": [
      " 51%|██████████████████████                     | 37/72 [00:05<00:04,  7.08it/s]"
     ]
    },
    {
     "name": "stdout",
     "output_type": "stream",
     "text": [
      "tensor(-78.0946, grad_fn=<SelectBackward0>)\n",
      "tensor([0.])\n",
      "tensor(-79.0905, grad_fn=<SelectBackward0>)\n",
      "tensor([0.])\n"
     ]
    },
    {
     "name": "stderr",
     "output_type": "stream",
     "text": [
      " 53%|██████████████████████▋                    | 38/72 [00:06<00:05,  6.46it/s]"
     ]
    },
    {
     "name": "stdout",
     "output_type": "stream",
     "text": [
      "tensor(-80.0348, grad_fn=<SelectBackward0>)\n",
      "tensor([0.])\n"
     ]
    },
    {
     "name": "stderr",
     "output_type": "stream",
     "text": [
      " 54%|███████████████████████▎                   | 39/72 [00:06<00:05,  5.65it/s]"
     ]
    },
    {
     "name": "stdout",
     "output_type": "stream",
     "text": [
      "tensor(-80.9075, grad_fn=<SelectBackward0>)\n",
      "tensor([0.])\n"
     ]
    },
    {
     "name": "stderr",
     "output_type": "stream",
     "text": [
      " 58%|█████████████████████████                  | 42/72 [00:06<00:04,  6.71it/s]"
     ]
    },
    {
     "name": "stdout",
     "output_type": "stream",
     "text": [
      "tensor(-81.4407, grad_fn=<SelectBackward0>)\n",
      "tensor([1.])\n",
      "tensor(-68.9472, grad_fn=<SelectBackward0>)\n",
      "tensor([1.])\n",
      "tensor(-54.7676, grad_fn=<SelectBackward0>)\n",
      "tensor([1.])\n",
      "tensor(-40.8940, grad_fn=<SelectBackward0>)\n",
      "tensor([1.])\n"
     ]
    },
    {
     "name": "stderr",
     "output_type": "stream",
     "text": [
      " 64%|███████████████████████████▍               | 46/72 [00:07<00:02, 10.09it/s]"
     ]
    },
    {
     "name": "stdout",
     "output_type": "stream",
     "text": [
      "tensor(-29.1739, grad_fn=<SelectBackward0>)\n",
      "tensor([1.])\n",
      "tensor(-19.6741, grad_fn=<SelectBackward0>)\n",
      "tensor([1.])\n",
      "tensor(-12.6705, grad_fn=<SelectBackward0>)\n",
      "tensor([1.])\n",
      "tensor(-7.7784, grad_fn=<SelectBackward0>)\n",
      "tensor([1.])\n"
     ]
    },
    {
     "name": "stderr",
     "output_type": "stream",
     "text": [
      " 69%|█████████████████████████████▊             | 50/72 [00:07<00:01, 12.29it/s]"
     ]
    },
    {
     "name": "stdout",
     "output_type": "stream",
     "text": [
      "tensor(-4.5558, grad_fn=<SelectBackward0>)\n",
      "tensor([1.])\n",
      "tensor(-2.5126, grad_fn=<SelectBackward0>)\n",
      "tensor([1.])\n",
      "tensor(-1.3043, grad_fn=<SelectBackward0>)\n",
      "tensor([1.])\n"
     ]
    },
    {
     "name": "stderr",
     "output_type": "stream",
     "text": [
      " 72%|███████████████████████████████            | 52/72 [00:07<00:01, 12.70it/s]"
     ]
    },
    {
     "name": "stdout",
     "output_type": "stream",
     "text": [
      "tensor(-0.6313, grad_fn=<SelectBackward0>)\n",
      "tensor([1.])\n",
      "tensor(-0.2889, grad_fn=<SelectBackward0>)\n",
      "tensor([1.])\n",
      "tensor(-0.1338, grad_fn=<SelectBackward0>)\n",
      "tensor([1.])\n"
     ]
    },
    {
     "name": "stderr",
     "output_type": "stream",
     "text": [
      " 78%|█████████████████████████████████▍         | 56/72 [00:07<00:01, 12.42it/s]"
     ]
    },
    {
     "name": "stdout",
     "output_type": "stream",
     "text": [
      "tensor(-0.0732, grad_fn=<SelectBackward0>)\n",
      "tensor([1.])\n",
      "tensor(-0.0456, grad_fn=<SelectBackward0>)\n",
      "tensor([1.])\n",
      "tensor(-0.0265, grad_fn=<SelectBackward0>)\n",
      "tensor([1.])\n"
     ]
    },
    {
     "name": "stderr",
     "output_type": "stream",
     "text": [
      " 81%|██████████████████████████████████▋        | 58/72 [00:07<00:01, 12.39it/s]"
     ]
    },
    {
     "name": "stdout",
     "output_type": "stream",
     "text": [
      "tensor(-0.0132, grad_fn=<SelectBackward0>)\n",
      "tensor([1.])\n",
      "tensor(-0.0060, grad_fn=<SelectBackward0>)\n",
      "tensor([1.])\n",
      "tensor(0.0002, grad_fn=<SelectBackward0>)\n",
      "tensor([1.])\n"
     ]
    },
    {
     "name": "stderr",
     "output_type": "stream",
     "text": [
      " 86%|█████████████████████████████████████      | 62/72 [00:08<00:00, 12.15it/s]"
     ]
    },
    {
     "name": "stdout",
     "output_type": "stream",
     "text": [
      "tensor(0.0140, grad_fn=<SelectBackward0>)\n",
      "tensor([1.])\n",
      "tensor(0.0328, grad_fn=<SelectBackward0>)\n",
      "tensor([1.])\n",
      "tensor(0.0526, grad_fn=<SelectBackward0>)\n",
      "tensor([1.])\n"
     ]
    },
    {
     "name": "stderr",
     "output_type": "stream",
     "text": [
      " 89%|██████████████████████████████████████▏    | 64/72 [00:08<00:00, 12.11it/s]"
     ]
    },
    {
     "name": "stdout",
     "output_type": "stream",
     "text": [
      "tensor(0.0728, grad_fn=<SelectBackward0>)\n",
      "tensor([1.])\n",
      "tensor(0.0936, grad_fn=<SelectBackward0>)\n",
      "tensor([1.])\n",
      "tensor(0.1146, grad_fn=<SelectBackward0>)\n",
      "tensor([1.])\n"
     ]
    },
    {
     "name": "stderr",
     "output_type": "stream",
     "text": [
      " 94%|████████████████████████████████████████▌  | 68/72 [00:08<00:00, 12.43it/s]"
     ]
    },
    {
     "name": "stdout",
     "output_type": "stream",
     "text": [
      "tensor(0.1368, grad_fn=<SelectBackward0>)\n",
      "tensor([1.])\n",
      "tensor(0.1606, grad_fn=<SelectBackward0>)\n",
      "tensor([1.])\n",
      "tensor(0.1864, grad_fn=<SelectBackward0>)\n",
      "tensor([1.])\n"
     ]
    },
    {
     "name": "stderr",
     "output_type": "stream",
     "text": [
      " 97%|█████████████████████████████████████████▊ | 70/72 [00:08<00:00, 11.78it/s]"
     ]
    },
    {
     "name": "stdout",
     "output_type": "stream",
     "text": [
      "tensor(0.2147, grad_fn=<SelectBackward0>)\n",
      "tensor([1.])\n",
      "tensor(0.2466, grad_fn=<SelectBackward0>)\n",
      "tensor([1.])\n"
     ]
    },
    {
     "name": "stderr",
     "output_type": "stream",
     "text": [
      "100%|███████████████████████████████████████████| 72/72 [00:09<00:00,  7.86it/s]"
     ]
    },
    {
     "name": "stdout",
     "output_type": "stream",
     "text": [
      "tensor(0.2830, grad_fn=<SelectBackward0>)\n",
      "tensor([1.])\n",
      "Epoch: 0. Loss: 0.5616323947906494\n"
     ]
    },
    {
     "name": "stderr",
     "output_type": "stream",
     "text": [
      "\n"
     ]
    }
   ],
   "source": [
    "optimizer = optim.Adam(net.parameters(), lr=0.001)\n",
    "loss_function = nn.BCEWithLogitsLoss()\n",
    "BATCH_SIZE = 100\n",
    "EPOCHS = 1\n",
    "\n",
    "for epoch in range(EPOCHS):\n",
    "    for i in tqdm(range(0, len(train_X), BATCH_SIZE)): # from 0, to the len of x, stepping BATCH_SIZE at a time. [:50] ..for now just to dev\n",
    "        batch_X = train_X[i:i+BATCH_SIZE].view(-1, 1, 50, 50)\n",
    "        batch_y = train_y[i:i + BATCH_SIZE].unsqueeze(1).float()\n",
    "\n",
    "        net.zero_grad()\n",
    "\n",
    "        outputs = net(batch_X)\n",
    "        print(outputs[0])\n",
    "        print(batch_y[0])\n",
    "        loss = loss_function(outputs, batch_y.view(100))\n",
    "        loss.backward()\n",
    "        optimizer.step()    # Does the update\n",
    "\n",
    "    print(f\"Epoch: {epoch}. Loss: {loss}\")\n"
   ]
  },
  {
   "cell_type": "code",
   "execution_count": 10,
   "id": "5b7a9397",
   "metadata": {},
   "outputs": [
    {
     "name": "stderr",
     "output_type": "stream",
     "text": [
      "100%|███████████████████████████████████████| 800/800 [00:00<00:00, 1119.79it/s]"
     ]
    },
    {
     "name": "stdout",
     "output_type": "stream",
     "text": [
      "Accuracy:  1.0\n"
     ]
    },
    {
     "name": "stderr",
     "output_type": "stream",
     "text": [
      "\n"
     ]
    }
   ],
   "source": [
    "correct = 0\n",
    "total = 0\n",
    "with torch.no_grad():\n",
    "    for i in tqdm(range(len(test_X))):\n",
    "        real_class = torch.argmax(test_y[i])\n",
    "        net_out = net(test_X[i].view(-1, 1, 50, 50))[0]  # returns a list, \n",
    "        predicted_class = torch.argmax(net_out)\n",
    "\n",
    "        if predicted_class == real_class:\n",
    "            correct += 1\n",
    "        total += 1\n",
    "print(\"Accuracy: \", round(correct/total, 3))"
   ]
  },
  {
   "cell_type": "code",
   "execution_count": null,
   "id": "e829163b",
   "metadata": {},
   "outputs": [],
   "source": []
  }
 ],
 "metadata": {
  "kernelspec": {
   "display_name": "Python 3 (ipykernel)",
   "language": "python",
   "name": "python3"
  },
  "language_info": {
   "codemirror_mode": {
    "name": "ipython",
    "version": 3
   },
   "file_extension": ".py",
   "mimetype": "text/x-python",
   "name": "python",
   "nbconvert_exporter": "python",
   "pygments_lexer": "ipython3",
   "version": "3.10.6"
  }
 },
 "nbformat": 4,
 "nbformat_minor": 5
}
