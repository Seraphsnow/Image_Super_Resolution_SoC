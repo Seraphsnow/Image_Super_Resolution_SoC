{
 "cells": [
  {
   "cell_type": "code",
   "execution_count": 1,
   "id": "56eac384",
   "metadata": {},
   "outputs": [],
   "source": [
    "import numpy as np\n",
    "import matplotlib.pyplot as plt\n",
    "import csv\n",
    "import math"
   ]
  },
  {
   "cell_type": "code",
   "execution_count": 2,
   "id": "bdc7df98",
   "metadata": {},
   "outputs": [],
   "source": [
    "totaldata = []\n",
    "with open('framingham.csv', mode = 'r') as file:\n",
    "    csvFile = csv.reader(file)\n",
    "    for lines in csvFile:\n",
    "        if 'NA' in lines:\n",
    "            continue\n",
    "        else:\n",
    "            totaldata.append(lines)\n",
    "traindata = []\n",
    "for i in range(1,3000):\n",
    "    traindata.append(list(map(float,np.array(totaldata[i]))))\n",
    "traindata = np.array(traindata)\n",
    "\n",
    "nr = np.shape(traindata)[0]\n",
    "nc = np.shape(traindata)[1]\n"
   ]
  },
  {
   "cell_type": "code",
   "execution_count": 3,
   "id": "b71cd1ac",
   "metadata": {},
   "outputs": [],
   "source": [
    "inputs = np.delete(traindata, nc - 1, 1)\n",
    "var = np.var(inputs, axis=0)\n",
    "mean = np.mean(inputs, axis=0)\n",
    "inputs = (inputs - mean)/var\n",
    "const = np.ones(nr).reshape(-1,1)\n",
    "inputs = np.append(inputs, const, axis = 1)\n",
    "output = traindata[:, -1]\n",
    "x = inputs.transpose()"
   ]
  },
  {
   "cell_type": "code",
   "execution_count": 4,
   "id": "1d203765",
   "metadata": {},
   "outputs": [],
   "source": [
    "def sigm(z):\n",
    "    return 1/(1+math.exp(-z))\n",
    "\n",
    "def loss(x,y):\n",
    "    x = max(x, 1e-15)\n",
    "    x = min(x, 1-1e-15)\n",
    "    return float(-y*(math.log(x)) - (1-y)*(math.log(1-x)))\n",
    "\n",
    "def decision(x):\n",
    "    if x<= 0.35:\n",
    "        return 0\n",
    "    else:\n",
    "        return 1\n",
    "\n",
    "lr = 0.1\n",
    "jo = 1.0\n",
    "jf = 0.0\n",
    "jd = jf -jo\n",
    "\n",
    "cost_array = []"
   ]
  },
  {
   "cell_type": "code",
   "execution_count": 5,
   "id": "a5c38a92",
   "metadata": {},
   "outputs": [
    {
     "name": "stdout",
     "output_type": "stream",
     "text": [
      "[6545.05053977 6467.21869379 6367.88671762 ... 1127.73826282 1127.73403166\n",
      " 1127.7340338 ]\n"
     ]
    }
   ],
   "source": [
    "w = np.ones(nc)\n",
    "\n",
    "while abs(jd) > 0.00001:\n",
    "    b = np.matmul(w, x)\n",
    "    sig = np.array(list(map(sigm, b)))\n",
    "    ls = np.array(list(map(loss, sig, output)))\n",
    "    jo = np.sum(ls)\n",
    "\n",
    "    step = np.matmul(sig - output, inputs)\n",
    "\n",
    "    w = w - lr * step / nr\n",
    "\n",
    "    jd = jf - jo\n",
    "    \n",
    "    jf = jo\n",
    "    \n",
    "    cost_array.append(jf)\n",
    "    \n",
    "    if jo > jf :\n",
    "        lr = lr/1.5\n",
    "\n",
    "print(np.array(cost_array))"
   ]
  },
  {
   "cell_type": "code",
   "execution_count": 6,
   "id": "6c8a63cf",
   "metadata": {},
   "outputs": [
    {
     "name": "stdout",
     "output_type": "stream",
     "text": [
      "[ 1.07372337e-01  4.41268312e+00 -9.20371555e-02  4.99213655e-02\n",
      "  1.94241654e+00  4.20487550e-03  3.45456733e-03  8.20677860e-02\n",
      "  1.06768536e-02  1.47385311e+00  2.35278149e+00  1.12862230e+00\n",
      "  2.38334273e-01  3.77735525e-02  2.36773546e+00 -1.97696435e+00]\n"
     ]
    }
   ],
   "source": [
    "print(w)"
   ]
  },
  {
   "cell_type": "code",
   "execution_count": 7,
   "id": "8eaceb72",
   "metadata": {},
   "outputs": [],
   "source": [
    "testdata = []\n",
    "for i in range(3000, len(totaldata)):\n",
    "    testdata.append(list(map(float,np.array(totaldata[i]))))\n",
    "testdata = np.array(testdata)\n",
    "\n",
    "nrt = np.shape(testdata)[0]\n",
    "nct = np.shape(testdata)[1]\n",
    "\n",
    "inputs_t = np.delete(testdata, nct - 1, 1)\n",
    "vart = np.var(inputs_t, axis=0)\n",
    "meant = np.mean(inputs_t, axis=0)\n",
    "inputs_t = (inputs_t - meant)/vart\n",
    "const_t = np.ones(nrt).reshape(-1,1)\n",
    "inputs_t = np.append(inputs_t, const_t, axis = 1)\n",
    "output_t = testdata[:, -1]\n",
    "x_t = inputs_t.transpose()\n",
    "\n",
    "raw = np.matmul(w, x_t)\n",
    "raw_predn = np.array(list(map(sigm, raw)))\n",
    "predn = np.array(list(map(decision, raw_predn)))"
   ]
  },
  {
   "cell_type": "code",
   "execution_count": 8,
   "id": "bedb58f4",
   "metadata": {},
   "outputs": [
    {
     "name": "stdout",
     "output_type": "stream",
     "text": [
      "0.8264840182648402\n",
      "0.12037037037037036\n",
      "0.9653916211293261\n"
     ]
    }
   ],
   "source": [
    "diff_output_predn = output_t - predn\n",
    "\n",
    "fp = np.count_nonzero(diff_output_predn == -1)\n",
    "fn = np.count_nonzero(diff_output_predn == 1)\n",
    "\n",
    "actp = np.count_nonzero(output_t == 1)\n",
    "actn = nrt - actp\n",
    "\n",
    "print (1- ((fp + fn) / nrt))\n",
    "\n",
    "print((actp - fn) / actp)\n",
    "\n",
    "print((actn - fp) / actn)"
   ]
  }
 ],
 "metadata": {
  "kernelspec": {
   "display_name": "Python 3 (ipykernel)",
   "language": "python",
   "name": "python3"
  },
  "language_info": {
   "codemirror_mode": {
    "name": "ipython",
    "version": 3
   },
   "file_extension": ".py",
   "mimetype": "text/x-python",
   "name": "python",
   "nbconvert_exporter": "python",
   "pygments_lexer": "ipython3",
   "version": "3.10.6"
  }
 },
 "nbformat": 4,
 "nbformat_minor": 5
}
