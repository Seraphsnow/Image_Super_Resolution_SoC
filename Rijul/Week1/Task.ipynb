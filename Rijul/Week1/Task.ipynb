{
 "cells": [
  {
   "cell_type": "markdown",
   "id": "aa651963",
   "metadata": {},
   "source": [
    "# Week 1 Task"
   ]
  },
  {
   "cell_type": "markdown",
   "id": "776ef63d",
   "metadata": {},
   "source": [
    "#### Data Set"
   ]
  },
  {
   "cell_type": "code",
   "execution_count": 75,
   "id": "6c6a4b63",
   "metadata": {},
   "outputs": [
    {
     "name": "stdout",
     "output_type": "stream",
     "text": [
      "Data Set:  [3322  852 1033 2013 8542 1651 8456 2154 2313 5001 2304 6663 7076 1873\n",
      " 9585 5102  197 7258 4403 9266]\n"
     ]
    }
   ],
   "source": [
    "import numpy as np\n",
    "\n",
    "def data(n):\n",
    "\tx = np.random.randint(10001, size = n)\n",
    "\treturn x\t\n",
    "n = 20 # Value of n goes here\n",
    "data_set = data(n)\n",
    "print(\"Data Set: \", data_set)"
   ]
  },
  {
   "cell_type": "markdown",
   "id": "3dfe995c",
   "metadata": {},
   "source": [
    "### Write a code to find the mean, median, mode, sum, variance, and standard deviation of a given dataset of numbers."
   ]
  },
  {
   "cell_type": "code",
   "execution_count": 76,
   "id": "c9a9141c",
   "metadata": {},
   "outputs": [
    {
     "name": "stdout",
     "output_type": "stream",
     "text": [
      "Mean: 4453.2\n",
      "Median: 3862.5\n",
      "Mode: 197\n",
      "Sum: 89064\n",
      "Var: 9080164.259999998\n",
      "Sigma: 3013.331090338398\n"
     ]
    }
   ],
   "source": [
    "# MEAN\n",
    "print(\"Mean:\", np.mean(data_set))\n",
    "\n",
    "#MEDIAN\n",
    "print(\"Median:\", np.median(data_set))\n",
    "\n",
    "#MODE\n",
    "vals, counts = np.unique(data_set, return_counts=True)\n",
    "mode = vals[np.argmax(counts)]\n",
    "print(\"Mode:\", mode)\n",
    "\n",
    "#SUM\n",
    "print(\"Sum:\", np.sum(data_set))\n",
    "\n",
    "#VARIANCE\n",
    "print(\"Var:\", np.var(data_set))\n",
    "\n",
    "#STANDARD DEVIATION\n",
    "print(\"Sigma:\", np.std(data_set))\n"
   ]
  },
  {
   "cell_type": "markdown",
   "id": "67b603b7",
   "metadata": {},
   "source": [
    "### Implement Quick Sort"
   ]
  },
  {
   "cell_type": "code",
   "execution_count": 72,
   "id": "1b96ce0b",
   "metadata": {},
   "outputs": [],
   "source": [
    "def QuickSort(nparray):\n",
    "\tk = 0\n",
    "\tif len(nparray) == 0:\n",
    "\t\treturn nparray\n",
    "\tfor i in range(len(nparray)-1):\n",
    "\t\tif nparray[i] <= nparray[-1]:\n",
    "\t\t\tnparray[i], nparray[k] = nparray[k], nparray[i]\n",
    "\t\t\tk+=1\n",
    "\tnparray[-1], nparray[k] = nparray[k], nparray[-1]\n",
    "\tQuickSort(nparray[:k])\n",
    "\tQuickSort(nparray[k+1:])"
   ]
  },
  {
   "cell_type": "code",
   "execution_count": 74,
   "id": "af876749",
   "metadata": {},
   "outputs": [
    {
     "name": "stdout",
     "output_type": "stream",
     "text": [
      "Initial Array:  [5563 7674 8070 4396 5947 5633 3290 8927 3511 3464 9139 6369 9230 6372\n",
      "  640 6924 4277 2267 3436 1467]\n",
      "Sorted Array:  [ 640 1467 2267 3290 3436 3464 3511 4277 4396 5563 5633 5947 6369 6372\n",
      " 6924 7674 8070 8927 9139 9230]\n"
     ]
    }
   ],
   "source": [
    "n = 20 #Enter the value of n here\n",
    "nparray = data(n)\n",
    "print(\"Initial Array: \", nparray)\n",
    "QuickSort(nparray)\n",
    "print(\"Sorted Array: \", nparray)"
   ]
  },
  {
   "cell_type": "markdown",
   "id": "7c6b7525",
   "metadata": {},
   "source": [
    "### Perform PCA to identify best-fit line through the following datasets. Utilize the matplotlib library to display your results."
   ]
  },
  {
   "cell_type": "code",
   "execution_count": 60,
   "id": "c68c0abf",
   "metadata": {},
   "outputs": [],
   "source": [
    "import numpy as np\n",
    "import matplotlib.pyplot as plt\n",
    "\n",
    "def data1():\n",
    "\tx = [np.random.rand() for i in range(1000)]\n",
    "\ty = [x[i] + 0.05*np.random.rand() for i in range(1000)]\n",
    "\treturn [x, y]\n",
    "\n",
    "def data2():\n",
    "\tx = [np.random.rand() for i in range(1000)]\n",
    "\ty = [(x[i])**2 + 0.05*np.random.rand() for i in range(1000)]\n",
    "\treturn [x, y]"
   ]
  },
  {
   "cell_type": "code",
   "execution_count": 57,
   "id": "7359a789",
   "metadata": {},
   "outputs": [],
   "source": [
    "# Standardisation of Data\n",
    "def std_data(nparray):\n",
    "    x, y = nparray[0], nparray[1]\n",
    "    x_std = (x - np.mean(x))/np.std(x)\n",
    "    y_std = (y - np.mean(y))/np.std(y)\n",
    "    return np.array([x_std, y_std])\n",
    "\n",
    "def DimReduction(arr):\n",
    "    data_set = np.array(arr)\n",
    "    std_data_set = std_data(data_set)\n",
    "    \n",
    "    # Computing the covariance matrix\n",
    "    cov_matrix = np.cov(std_data_set)\n",
    "    \n",
    "    # Computing the eigenvectors and eigenvalues of the covariance matrix to identify the principal components\n",
    "    eigen_data = np.linalg.eigh(cov_matrix)\n",
    "    \n",
    "    # Creating a feature vector to decide which principal components to keep\n",
    "    u = eigen_data[1][:][-1] # Retaining the eigenvector corresponding to greatest eigenvalue\n",
    "    \n",
    "    # Recasting the data along the principal components axes\n",
    "    m = u[1]/u[0]*np.std(data_set[1])/np.std(data_set[0])\n",
    "    c = np.mean(data_set[1] - data_set[0]*m)\n",
    "    \n",
    "    # Displaying the result using matplotlib\n",
    "    plt.scatter(data_set[0], data_set[1], color = \"red\")\n",
    "    plt.plot(data_set[0], data_set[0]*m + c)\n",
    "    print(\"Slope =\", m, \"Intercept =\", c)\n",
    "    plt.title(\"Best Fit Line\")\n",
    "    plt.show()"
   ]
  },
  {
   "cell_type": "markdown",
   "id": "d5f78479",
   "metadata": {},
   "source": [
    "#### For linear data set"
   ]
  },
  {
   "cell_type": "code",
   "execution_count": 61,
   "id": "d465e076",
   "metadata": {},
   "outputs": [
    {
     "name": "stdout",
     "output_type": "stream",
     "text": [
      "Slope = 1.0011397902179877 Intercept = 0.02465151617522509\n"
     ]
    },
    {
     "data": {
      "image/png": "[encoded data removed]",
      "text/plain": [
       "<Figure size 640x480 with 1 Axes>"
      ]
     },
     "metadata": {},
     "output_type": "display_data"
    }
   ],
   "source": [
    "DimReduction(data1())"
   ]
  },
  {
   "cell_type": "markdown",
   "id": "0c47ee38",
   "metadata": {},
   "source": [
    "#### For parabolic data set"
   ]
  },
  {
   "cell_type": "code",
   "execution_count": 59,
   "id": "aeec4108",
   "metadata": {},
   "outputs": [
    {
     "name": "stdout",
     "output_type": "stream",
     "text": [
      "Slope = 1.036076126486541 Intercept = -0.1618879474304496\n"
     ]
    },
    {
     "data": {
      "image/png": "[encoded data removed]",
      "text/plain": [
       "<Figure size 640x480 with 1 Axes>"
      ]
     },
     "metadata": {},
     "output_type": "display_data"
    }
   ],
   "source": [
    "DimReduction(data2())"
   ]
  }
 ],
 "metadata": {
  "kernelspec": {
   "display_name": "Python 3 (ipykernel)",
   "language": "python",
   "name": "python3"
  },
  "language_info": {
   "codemirror_mode": {
    "name": "ipython",
    "version": 3
   },
   "file_extension": ".py",
   "mimetype": "text/x-python",
   "name": "python",
   "nbconvert_exporter": "python",
   "pygments_lexer": "ipython3",
   "version": "3.10.4"
  }
 },
 "nbformat": 4,
 "nbformat_minor": 5
}
