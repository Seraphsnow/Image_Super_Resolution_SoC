{
 "cells": [
  {
   "cell_type": "code",
   "execution_count": 40,
   "metadata": {},
   "outputs": [
    {
     "name": "stdout",
     "output_type": "stream",
     "text": [
      "[[-0.579901   -0.63724853]\n",
      " [ 0.14497525  0.26069258]\n",
      " [ 1.24678715  1.18759954]\n",
      " [-1.5657327  -1.59312133]\n",
      " [ 0.78286635  0.78207774]\n",
      " [-0.55090595 -0.66621437]\n",
      " [ 0.1159802   0.28965842]\n",
      " [ 1.2177921   1.1586337 ]\n",
      " [-1.59472775 -1.56415549]\n",
      " [ 0.8118614   0.7531119 ]\n",
      " [-0.55090595 -0.66621437]\n",
      " [ 0.1739703   0.23172674]\n",
      " [ 1.2177921   1.21656538]\n",
      " [-1.6237228  -1.56415549]\n",
      " [ 0.7538713   0.81104359]]\n",
      "[[-0.54142049]\n",
      " [-0.60561057]]\n",
      "[[0.23395718]\n",
      " [0.28298704]]\n",
      "[[1.00954388]\n",
      " [1.0074181 ]]\n",
      "[[-1.5594768 ]\n",
      " [-1.53961254]]\n",
      "[[0.84913221]\n",
      " [0.84328563]]\n"
     ]
    }
   ],
   "source": [
    "import matplotlib.pyplot as plt\n",
    "import numpy as np\n",
    "\n",
    "data=np.array([[73,91,87,102,69,74,91,88,101,68,73,92,87,103,68],[67,88,134,43,96,66,87,134,44,96,66,87,135,43,97],[43,64,58,37,70,43,65,59,37,71,44,64,57,36,70]])\n",
    "y=np.array([[56,81,119,22,103,57,80,118,21,104,57,82,118,20,102],[70,101,133,37,119,69,102,132,38,118,69,100,134,38,120]])\n",
    "\n",
    "data_std=np.std(data,axis=1).reshape(3,1)\n",
    "y_std=np.std(y,axis=1).reshape(2,1)\n",
    "\n",
    "data_mean=np.mean(data,axis=1).reshape(3,1)\n",
    "y_mean=np.mean(y,axis=1).reshape(2,1)\n",
    "\n",
    "w=np.zeros((2,3))\n",
    "b=np.zeros((2,1))\n",
    "# ones=np.ones(len(data[0])).reshape(1,15)\n",
    "ones=np.ones((1,15))\n",
    "\n",
    "data_temp=(data-np.matmul(data_mean,ones))/(np.matmul(data_std,ones))\n",
    "y_temp=(y-np.matmul(y_mean,ones))/(np.matmul(y_std,ones))\n",
    "\n",
    "learning_rate=0.00001\n",
    "iter=100000\n",
    "for i in range(iter):\n",
    "    \n",
    "    y_predicted=np.matmul(w,data_temp)+np.matmul(b,ones)\n",
    "\n",
    "    delta=y_predicted-y_temp\n",
    "    \n",
    "    gradient=np.matmul(delta,data_temp.transpose())*(2/len(data[0]))\n",
    "    \n",
    "    temp_w=w-learning_rate*gradient\n",
    "    \n",
    "    temp_b=b-(2*learning_rate/len(data[0]))*np.sum(delta,axis=1,keepdims = True)\n",
    "\n",
    "    w=temp_w\n",
    "    b=temp_b\n",
    "\n",
    "print((np.matmul(w,np.array([data_temp[0][3],data_temp[1][3],data_temp[2][3]]).reshape(3,1))+b)*y_std + y_mean)"
   ]
  }
 ],
 "metadata": {
  "kernelspec": {
   "display_name": "Python 3",
   "language": "python",
   "name": "python3"
  },
  "language_info": {
   "codemirror_mode": {
    "name": "ipython",
    "version": 3
   },
   "file_extension": ".py",
   "mimetype": "text/x-python",
   "name": "python",
   "nbconvert_exporter": "python",
   "pygments_lexer": "ipython3",
   "version": "3.10.6"
  },
  "orig_nbformat": 4
 },
 "nbformat": 4,
 "nbformat_minor": 2
}
