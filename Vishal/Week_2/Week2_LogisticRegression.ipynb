{
 "cells": [
  {
   "cell_type": "code",
   "execution_count": 11,
   "metadata": {},
   "outputs": [],
   "source": [
    "import csv\n",
    "import numpy as np\n",
    "import matplotlib.pyplot as plt\n",
    "\n",
    "data=[]\n",
    "y=[]\n",
    "with open('framingham.csv','r') as file:\n",
    "    csv_reader=csv.reader(file)\n",
    "    for line in csv_reader:\n",
    "        data_row=[]\n",
    "        if (line[0]!='male'):\n",
    "            for i in range(15):\n",
    "                if line[i]!='NA':\n",
    "                    data_row.append(float(line[i]))\n",
    "                else:\n",
    "                    data_row.append(-1)\n",
    "            data.append(data_row)\n",
    "            y.append(int(line[15]))\n",
    "\n",
    "data=np.array(data)\n",
    "data=data.T\n",
    "\n",
    "data_mean=np.mean(data,axis=1)\n",
    "n1=0\n",
    "n2=0\n",
    "for i in data:\n",
    "    n2=0\n",
    "    for j in i:\n",
    "        if j==-1:\n",
    "            data[n1][n2]=data_mean[n1]\n",
    "        n2+=1\n",
    "    n1+=1\n",
    "y=np.array(y).reshape(1,data.shape[1])        "
   ]
  },
  {
   "cell_type": "code",
   "execution_count": 12,
   "metadata": {},
   "outputs": [
    {
     "name": "stdout",
     "output_type": "stream",
     "text": [
      "[[ 0.02759583  0.06452286 -0.01342366  0.00846777  0.02019172  0.0217631\n",
      "   0.01776997  0.04394696  0.02571441  0.02030631  0.05554674  0.03321132\n",
      "   0.01563165  0.00365101  0.03373981]]\n",
      "[[-0.30829491]]\n",
      "[[0.36188163 0.39170483 0.42023671 ... 0.40435691 0.39434659 0.41675266]]\n"
     ]
    }
   ],
   "source": [
    "w=np.zeros((1,15))\n",
    "b=np.zeros((1,1))\n",
    "ones=np.ones((1,data.shape[1])) \n",
    "data_mean=np.mean(data,axis=1).reshape(-1,1)\n",
    "data_std=np.std(data,axis=1).reshape(-1,1)\n",
    "\n",
    "data_temp=(data-np.matmul(data_mean,ones))/np.matmul(data_std,ones)\n",
    "\n",
    "alpha=0.001\n",
    "iter=1000\n",
    "\n",
    "for i in range(iter):\n",
    "       \n",
    "    z=np.matmul(w,data_temp)+np.matmul(b,ones)\n",
    "\n",
    "    y_hat=np.exp(z)/(ones+np.exp(z))\n",
    "\n",
    "    delta=y_hat-y\n",
    "\n",
    "    cost=(1-y)*np.log(1-y_hat)+y*y_hat\n",
    "\n",
    "    w=w-alpha*np.matmul(delta,data_temp.T)/data.shape[1]\n",
    "\n",
    "    b=b-alpha*np.mean(delta)\n",
    "\n",
    "print(w)\n",
    "print(b)\n",
    "print(y_hat)"
   ]
  },
  {
   "cell_type": "code",
   "execution_count": 13,
   "metadata": {},
   "outputs": [
    {
     "name": "stdout",
     "output_type": "stream",
     "text": [
      "[[0 0 0 ... 0 0 0]]\n",
      "[[0. 0. 0. ... 0. 0. 0.]]\n",
      "644\n",
      "640\n"
     ]
    }
   ],
   "source": [
    "one1=0 #ones in y\n",
    "one2=0 #ones in y_predicted\n",
    "for i in range(data.shape[1]):\n",
    "    if y_hat[0][i]>=0.474:    #0.474 used to increase the sensitivity\n",
    "        y_hat[0][i]=1\n",
    "        one2+=1\n",
    "    else:\n",
    "        y_hat[0][i]=0\n",
    "\n",
    "    if y[0][i]==1:\n",
    "        one1+=1\n",
    "print(y)\n",
    "print(y_hat)\n",
    "print(one1)\n",
    "print(one2)"
   ]
  }
 ],
 "metadata": {
  "kernelspec": {
   "display_name": "Python 3",
   "language": "python",
   "name": "python3"
  },
  "language_info": {
   "codemirror_mode": {
    "name": "ipython",
    "version": 3
   },
   "file_extension": ".py",
   "mimetype": "text/x-python",
   "name": "python",
   "nbconvert_exporter": "python",
   "pygments_lexer": "ipython3",
   "version": "3.10.6"
  },
  "orig_nbformat": 4
 },
 "nbformat": 4,
 "nbformat_minor": 2
}
