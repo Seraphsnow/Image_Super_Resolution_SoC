{
 "cells": [
  {
   "cell_type": "code",
   "execution_count": 1,
   "metadata": {},
   "outputs": [
    {
     "name": "stdout",
     "output_type": "stream",
     "text": [
      "(15, 4238)\n"
     ]
    }
   ],
   "source": [
    "import csv\n",
    "import numpy as np\n",
    "import matplotlib.pyplot as plt\n",
    "\n",
    "data=[]\n",
    "y=[]\n",
    "with open('framingham.csv','r') as file:\n",
    "    csv_reader=csv.reader(file)\n",
    "    # sac = np.array(csv_reader)\n",
    "    # print(sac)\n",
    "    # for line in sac:\n",
    "    #     print(line)\n",
    "    for line in csv_reader:\n",
    "        data_row=[]\n",
    "        if (line[0]!='male'):\n",
    "            for i in range(15):\n",
    "                if line[i]!='NA':\n",
    "                    data_row.append(float(line[i]))\n",
    "                else:\n",
    "                    data_row.append(-1)\n",
    "            data.append(data_row)\n",
    "            y.append(int(line[15]))\n",
    "\n",
    "data=np.array(data)\n",
    "data=data.T\n",
    "\n",
    "data_mean=np.mean(data,axis=1)\n",
    "n1=0\n",
    "n2=0\n",
    "for i in data:\n",
    "    n2=0\n",
    "    for j in i:\n",
    "        if j==-1:\n",
    "            data[n1][n2]=data_mean[n1]\n",
    "        n2+=1\n",
    "    n1+=1\n",
    "y=np.array(y).reshape(1,data.shape[1])        "
   ]
  }
 ],
 "metadata": {
  "kernelspec": {
   "display_name": "Python 3",
   "language": "python",
   "name": "python3"
  },
  "language_info": {
   "codemirror_mode": {
    "name": "ipython",
    "version": 3
   },
   "file_extension": ".py",
   "mimetype": "text/x-python",
   "name": "python",
   "nbconvert_exporter": "python",
   "pygments_lexer": "ipython3",
   "version": "3.10.6"
  },
  "orig_nbformat": 4
 },
 "nbformat": 4,
 "nbformat_minor": 2
}
