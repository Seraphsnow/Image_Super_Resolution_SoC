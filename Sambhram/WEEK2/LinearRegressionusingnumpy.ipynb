{
 "cells": [
  {
   "cell_type": "code",
   "execution_count": 125,
   "id": "d3c780b6",
   "metadata": {},
   "outputs": [
    {
     "data": {
      "text/plain": [
       "(4, 15)"
      ]
     },
     "execution_count": 125,
     "metadata": {},
     "output_type": "execute_result"
    }
   ],
   "source": []
  },
  {
   "cell_type": "code",
   "execution_count": 213,
   "id": "1595e065",
   "metadata": {},
   "outputs": [
    {
     "name": "stdout",
     "output_type": "stream",
     "text": [
      "[[0.10403764]\n",
      " [1.01268412]\n",
      " [0.39045478]\n",
      " [0.00563407]]\n",
      "[[0.10870801]\n",
      " [0.8076054 ]\n",
      " [0.3126782 ]\n",
      " [0.0047447 ]]\n"
     ]
    }
   ],
   "source": [
    "import numpy as np\n",
    "parameters = np.array([[73, 91, 87, 102, 69, 74, 91, 88, 101, 68, 73, 92, 87, 103, 68],\n",
    "                       [67, 88, 134, 43, 96, 66, 87, 134, 44, 96, 66, 87, 135, 43, 97],\n",
    "                       [43, 64, 58, 37, 70, 43, 65, 59, 37, 71, 44, 64, 57, 36, 70],\n",
    "                       [1,1,1,1,1,1,1,1,1,1,1,1,1,1,1]])\n",
    "np.shape(parameters) #\n",
    "\n",
    "\n",
    "mango = np.array([[56],[81],[119],[22],[103],[80],[57],[118],[21],[104],[57],[82],[118],[20],[102]])\n",
    "oranges =np.array([[70],[101],[133],[37],[119],[69],[102],[132],[38],[118],[69],[100],[134],[38],[120]])\n",
    "\n",
    "\n",
    "parameters = parameters.transpose()\n",
    "parameters\n",
    "\n",
    "Theta0 = np.zeros((4,1)) # variables\n",
    "Theta0m = np.zeros((4,1))\n",
    "ao = 0.001539 # learning rate optimized by observation\n",
    "am = 0.001520\n",
    "\n",
    "\n",
    "error_sum = 0\n",
    "\n",
    "for i in range(0,15):\n",
    "    for k in range(0,15):\n",
    "        error_sum = (error_sum + (parameters[k] @ Theta0 )- oranges[k])/15\n",
    "    for j in range(0,4):\n",
    "        Theta0[j] = Theta0[j] - a * error_sum * parameters[i,j]\n",
    "       \n",
    "for i in range(0,15):\n",
    "    for k in range(0,15):\n",
    "        error_sum = (error_sum + (parameters[k] @ Theta0m )- mango[k])/15\n",
    "    for j in range(0,4):\n",
    "        Theta0m[j] = Theta0m[j] - am * error_sum * parameters[i,j]\n",
    "        \n",
    "       \n",
    "    \n",
    "\n",
    "\n",
    "print(Theta0)\n",
    "print(Theta0m)"
   ]
  },
  {
   "cell_type": "code",
   "execution_count": null,
   "id": "bff0e319",
   "metadata": {},
   "outputs": [],
   "source": []
  },
  {
   "cell_type": "code",
   "execution_count": null,
   "id": "460902f1",
   "metadata": {},
   "outputs": [],
   "source": []
  }
 ],
 "metadata": {
  "kernelspec": {
   "display_name": "Python 3 (ipykernel)",
   "language": "python",
   "name": "python3"
  },
  "language_info": {
   "codemirror_mode": {
    "name": "ipython",
    "version": 3
   },
   "file_extension": ".py",
   "mimetype": "text/x-python",
   "name": "python",
   "nbconvert_exporter": "python",
   "pygments_lexer": "ipython3",
   "version": "3.11.1"
  }
 },
 "nbformat": 4,
 "nbformat_minor": 5
}
