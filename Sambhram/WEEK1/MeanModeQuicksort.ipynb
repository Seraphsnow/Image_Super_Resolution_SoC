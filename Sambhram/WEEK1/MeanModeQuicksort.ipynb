{
 "cells": [
  {
   "cell_type": "code",
   "execution_count": 7,
   "id": "ef89a160",
   "metadata": {},
   "outputs": [
    {
     "name": "stdout",
     "output_type": "stream",
     "text": [
      "5004.303 5004303\n"
     ]
    }
   ],
   "source": [
    "import numpy as np\n",
    "\n",
    "# Code to generate n datapoints, returns an np array of n numbers ranging from 0\n",
    "# to 10000\n",
    "def data(n):\n",
    "    x = np.random.randint(10001, size = n)\n",
    "    return x\n",
    "sum = 0\n",
    "x = data(1000)\n",
    "for i in x:\n",
    "    sum = sum+i\n",
    "mean = sum/1000\n",
    "print(mean,sum)"
   ]
  },
  {
   "cell_type": "code",
   "execution_count": 8,
   "id": "a92a07eb",
   "metadata": {},
   "outputs": [
    {
     "name": "stdout",
     "output_type": "stream",
     "text": [
      "825.0\n"
     ]
    }
   ],
   "source": [
    "median = (x[500]+x[501])/2\n",
    "print(median)"
   ]
  },
  {
   "cell_type": "code",
   "execution_count": 15,
   "id": "71074258",
   "metadata": {},
   "outputs": [
    {
     "name": "stdout",
     "output_type": "stream",
     "text": [
      "9043\n"
     ]
    }
   ],
   "source": [
    "freq = {}\n",
    "for i in x:\n",
    "    if i in freq:\n",
    "        freq[i] += 1\n",
    "    else:\n",
    "        freq[i] = 1\n",
    "max_freq = 1;\n",
    "mode = None\n",
    "for i in freq:\n",
    "    if freq[i] > max_freq:\n",
    "        max_freq = freq[i] \n",
    "        mode = i\n",
    "print(mode)\n",
    "\n",
    "    \n"
   ]
  },
  {
   "cell_type": "code",
   "execution_count": 18,
   "id": "6600584c",
   "metadata": {},
   "outputs": [
    {
     "name": "stdout",
     "output_type": "stream",
     "text": [
      "8090063.683191002\n"
     ]
    }
   ],
   "source": [
    "var = 0\n",
    "for i in x:\n",
    "    var = var + (i - mean)**2\n",
    "var = var/1000\n",
    "print(var)"
   ]
  },
  {
   "cell_type": "code",
   "execution_count": 19,
   "id": "acc6fcf8",
   "metadata": {},
   "outputs": [
    {
     "name": "stdout",
     "output_type": "stream",
     "text": [
      "2844.303725552354\n"
     ]
    }
   ],
   "source": [
    "import math\n",
    "standard_deviation = math.sqrt(var)\n",
    "print(standard_deviation)"
   ]
  },
  {
   "cell_type": "code",
   "execution_count": 70,
   "id": "b283dd60",
   "metadata": {},
   "outputs": [],
   "source": [
    "# quicksort\n",
    "def partition(arr, low, high):\n",
    "    pivot  =  arr[high]\n",
    "    i = low - 1\n",
    "    for j in range(low,high):\n",
    "        if(arr[j]<pivot):\n",
    "            i= i+1\n",
    "            (arr[j], arr[i]) = (arr[i], arr[j])\n",
    "    (arr[i+1], arr[high]) = (arr[high], arr[i+1])\n",
    "    return i+1\n",
    "def quicksort(arr, low, high):\n",
    "    if low<high:\n",
    "        pi = partition(arr,low,high)\n",
    "        quicksort(arr,low,pi-1)\n",
    "        quicksort(arr,pi+1,high)\n",
    "    "
   ]
  },
  {
   "cell_type": "code",
   "execution_count": 71,
   "id": "756d724d",
   "metadata": {},
   "outputs": [
    {
     "name": "stdout",
     "output_type": "stream",
     "text": [
      "[1, 2, 3, 4]\n"
     ]
    }
   ],
   "source": [
    "arr = [3,2,1,4]\n",
    "quicksort(arr,0,3)\n",
    "print(arr)"
   ]
  },
  {
   "cell_type": "code",
   "execution_count": null,
   "id": "dea7ff7e",
   "metadata": {},
   "outputs": [],
   "source": []
  },
  {
   "cell_type": "code",
   "execution_count": null,
   "id": "9193434d",
   "metadata": {},
   "outputs": [],
   "source": []
  }
 ],
 "metadata": {
  "kernelspec": {
   "display_name": "Python 3 (ipykernel)",
   "language": "python",
   "name": "python3"
  },
  "language_info": {
   "codemirror_mode": {
    "name": "ipython",
    "version": 3
   },
   "file_extension": ".py",
   "mimetype": "text/x-python",
   "name": "python",
   "nbconvert_exporter": "python",
   "pygments_lexer": "ipython3",
   "version": "3.11.1"
  }
 },
 "nbformat": 4,
 "nbformat_minor": 5
}
