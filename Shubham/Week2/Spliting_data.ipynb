{
  "nbformat": 4,
  "nbformat_minor": 0,
  "metadata": {
    "colab": {
      "provenance": [],
      "toc_visible": true
    },
    "kernelspec": {
      "name": "python3",
      "display_name": "Python 3"
    },
    "language_info": {
      "name": "python"
    }
  },
  "cells": [
    {
      "cell_type": "code",
      "source": [
        "import numpy as np\n",
        "data = np.array([[73,67,43,56,70],[91,88,64,81,101],[87,134,58,119,133],[102,43,37,22,37],[69,96,70,103,119],[74,66,43,57,69],[91,87,65,80,102],[88,134,59,118,132],[101,44,37,21,38],[68,96,71,104,118],[73,66,44,57,69],[92,87,64,82,100],[87,135,57,118,134],[103,43,36,20,38],[68,97,70,102,120]])\n",
        "data = np.random.permutation(data)\n",
        "training_data = data[:11]\n",
        "validation_data = data[12:14]\n",
        "test_data = data[14]\n",
        "print(\"Training_data\")\n",
        "print(training_data)\n",
        "print(\"Validation_data\")\n",
        "print(validation_data)\n",
        "print(\"Test_data\")\n",
        "print(test_data)"
      ],
      "metadata": {
        "id": "XQnPUH_q-ffa"
      },
      "execution_count": null,
      "outputs": []
    },
    {
      "cell_type": "markdown",
      "source": [
        "# New Section"
      ],
      "metadata": {
        "id": "a2yj1LrKbVcD"
      }
    },
    {
      "cell_type": "code",
      "source": [],
      "metadata": {
        "id": "6CzfEHAjTEFl"
      },
      "execution_count": null,
      "outputs": []
    }
  ]
}