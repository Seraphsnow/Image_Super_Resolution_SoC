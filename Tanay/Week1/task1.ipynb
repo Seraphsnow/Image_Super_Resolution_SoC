{
 "cells": [
  {
   "cell_type": "code",
   "execution_count": 2,
   "metadata": {},
   "outputs": [],
   "source": [
    "import numpy as np\n",
    "import matplotlib.pyplot as plt\n",
    "\n"
   ]
  },
  {
   "cell_type": "code",
   "execution_count": 10,
   "metadata": {},
   "outputs": [],
   "source": [
    "def data(n):\n",
    "\tx = np.random.randint(10001, size = n)\n",
    "\treturn x\t"
   ]
  },
  {
   "cell_type": "code",
   "execution_count": 22,
   "metadata": {},
   "outputs": [
    {
     "name": "stdout",
     "output_type": "stream",
     "text": [
      "[6640 9743 4210 9931  746 5682 2168 8647 3404 5497]\n",
      "56668\n",
      "5666.8\n",
      "5589.5\n",
      "746\n",
      "8835498.559999995\n",
      "2972.4566540153273\n"
     ]
    }
   ],
   "source": [
    "def mode(arr):\n",
    "    value, count = np.unique(arr, return_counts= True)\n",
    "    mod = value[0]\n",
    "    mcount = count[0]\n",
    "    for i in range(1,len(value)):\n",
    "        if(count[i]>mcount):\n",
    "            mod = value[i]\n",
    "            mcount = count[i]\n",
    "    return mod\n",
    "\n",
    "elem = 10\n",
    "mydata = data(elem)\n",
    "avg = 0\n",
    "sum = 0\n",
    "variance = 0\n",
    "\n",
    "for i in range(elem):\n",
    "    sum+=mydata[i]\n",
    "    variance+=mydata[i]**2\n",
    "\n",
    "variance = variance/elem - (sum/elem)**2\n",
    "\n",
    "\n",
    "print(mydata)\n",
    "print(sum)\n",
    "print(sum/elem)\n",
    "print(np.median(mydata))\n",
    "print(mode(mydata))\n",
    "print(variance)\n",
    "print(variance**0.5)"
   ]
  },
  {
   "cell_type": "code",
   "execution_count": 27,
   "metadata": {},
   "outputs": [
    {
     "name": "stdout",
     "output_type": "stream",
     "text": [
      "[ 746 2168 3404 4210 5497 5682 6640 8647 9743 9931]\n"
     ]
    }
   ],
   "source": [
    "def partition(arr, l, r):\n",
    "    piv = np.random.randint(low= l, high = r+1)\n",
    "    numelem = -1\n",
    "    for i in range(l, r+1):\n",
    "        if arr[i]<= arr[piv]:\n",
    "            numelem+=1\n",
    "    temp = arr[piv]\n",
    "    arr[piv] = arr[l + numelem]\n",
    "    arr[l+numelem] = temp\n",
    "\n",
    "    i = l\n",
    "    j = r\n",
    "    while i<(l+numelem) and j> (l+numelem):\n",
    "        while(arr[i]<=arr[l+numelem]):\n",
    "            i+=1\n",
    "        while(arr[j]>arr[l+numelem]):\n",
    "            j-=1\n",
    "        if(i < (l+numelem) and j >(l+numelem)):\n",
    "            temp = arr[i]\n",
    "            arr[i] = arr[j]\n",
    "            arr[j]= temp\n",
    "            i+=1\n",
    "            j-=1\n",
    "    return l+numelem\n",
    "\n",
    "def quicksort(arr, l, r):\n",
    "    if l >= r:\n",
    "        return\n",
    "    mid = partition(arr, l, r)\n",
    "    quicksort(arr, l, mid-1)\n",
    "    quicksort(arr, mid+1, r)\n",
    "    return\n",
    "\n",
    "quicksort(mydata, 0, 9)\n",
    "print(mydata)"
   ]
  }
 ],
 "metadata": {
  "kernelspec": {
   "display_name": "Python 3",
   "language": "python",
   "name": "python3"
  },
  "language_info": {
   "codemirror_mode": {
    "name": "ipython",
    "version": 3
   },
   "file_extension": ".py",
   "mimetype": "text/x-python",
   "name": "python",
   "nbconvert_exporter": "python",
   "pygments_lexer": "ipython3",
   "version": "3.10.6"
  },
  "orig_nbformat": 4
 },
 "nbformat": 4,
 "nbformat_minor": 2
}
