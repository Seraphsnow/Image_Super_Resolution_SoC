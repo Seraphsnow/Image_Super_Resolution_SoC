{
 "cells": [
  {
   "cell_type": "code",
   "execution_count": null,
   "metadata": {},
   "outputs": [],
   "source": [
    "import numpy as np\n",
    "import csv\n",
    "import math\n",
    "path=('/home/sharvanee/dataset.csv')\n",
    "with open(path, 'r') as f:\n",
    "  data= list(csv.reader(f,delimiter=','))\n",
    "data=np.array(data[1:])\n",
    "region=data[:,0]\n",
    "x=data[:,1:4].astype(float)\n",
    "y1=data[:,4].astype(float)\n",
    "y2=data[:,5].astype(float)\n",
    "def linear_regression(m,n):\n",
    "  w = [0.23,0.43,0.50]\n",
    "  b = [0.2]*15\n",
    "  w_temp=[0]*3\n",
    "  f=np.dot(m,w)+b\n",
    "  a=0.0001\n",
    "  g=f-n\n",
    "  J=np.sum(np.matmul(g.T,g))/2\n",
    "  J=J/15\n",
    "  J_initial=J\n",
    "  eps = 1/10000\n",
    "  J_final = 0\n",
    "  delJ = J_initial-J_final\n",
    "  j=0\n",
    "  while abs(delJ) > eps:\n",
    "       for k in range(3):\n",
    "         s = 0\n",
    "         for i in range(15):\n",
    "          s += a*(g[i]*m[i][k])/15\n",
    "         w_temp[k] = w[k] - s \n",
    "       delJ = J_initial-J_final\n",
    "       J_final = J_initial\n",
    "       j=j+1\n",
    "       b_temp=b-(a*(np.sum(g)))/15\n",
    "       w=w_temp\n",
    "       b=b_temp\n",
    "  return w,b\n",
    "w1,b1=linear_regression(x,y1)\n",
    "w2,b2=linear_regression(x,y2)\n",
    "print(w1)\n",
    "print(w2)\n",
    "print(b1[0])\n",
    "print(b2[0])\n",
    "for i in range(15):\n",
    "  print(w1[0]*x[i][0]+w1[1]*x[i][1]+w1[2]*x[i][2]+b1[0])\n",
    "  print(w2[0]*x[i][0]+w2[1]*x[i][1]+w2[2]*x[i][2]+b2[0])"
   ]
  }
 ],
 "metadata": {
  "language_info": {
   "name": "python"
  },
  "orig_nbformat": 4
 },
 "nbformat": 4,
 "nbformat_minor": 2
}
