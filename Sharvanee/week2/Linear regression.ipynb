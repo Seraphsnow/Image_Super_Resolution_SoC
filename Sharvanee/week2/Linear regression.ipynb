{
 "cells": [
  {
   "cell_type": "code",
   "execution_count": 10,
   "metadata": {},
   "outputs": [
    {
     "ename": "KeyboardInterrupt",
     "evalue": "",
     "output_type": "error",
     "traceback": [
      "\u001b[0;31m---------------------------------------------------------------------------\u001b[0m",
      "\u001b[0;31mKeyboardInterrupt\u001b[0m                         Traceback (most recent call last)",
      "Cell \u001b[0;32mIn[10], line 32\u001b[0m\n\u001b[1;32m     30\u001b[0m      b\u001b[39m=\u001b[39mb\u001b[39m-\u001b[39mb_temp\n\u001b[1;32m     31\u001b[0m   \u001b[39mreturn\u001b[39;00m w,b\n\u001b[0;32m---> 32\u001b[0m w1,b1\u001b[39m=\u001b[39mlinear_regression(x,y1)\n\u001b[1;32m     33\u001b[0m w2,b2\u001b[39m=\u001b[39mlinear_regression(x,y2)\n\u001b[1;32m     34\u001b[0m \u001b[39mprint\u001b[39m(w1,w2,b1,b2)\n",
      "Cell \u001b[0;32mIn[10], line 26\u001b[0m, in \u001b[0;36mlinear_regression\u001b[0;34m(m, n)\u001b[0m\n\u001b[1;32m     24\u001b[0m   s \u001b[39m=\u001b[39m \u001b[39m0\u001b[39m\n\u001b[1;32m     25\u001b[0m   \u001b[39mfor\u001b[39;00m i \u001b[39min\u001b[39;00m \u001b[39mrange\u001b[39m(num_rows):\n\u001b[0;32m---> 26\u001b[0m      s \u001b[39m+\u001b[39m\u001b[39m=\u001b[39m a\u001b[39m*\u001b[39m(g[i]\u001b[39m*\u001b[39mm[i][k])\u001b[39m/\u001b[39mnum_rows\n\u001b[1;32m     27\u001b[0m w_temp[k] \u001b[39m=\u001b[39m w[k] \u001b[39m-\u001b[39m s \n\u001b[1;32m     28\u001b[0m b_temp\u001b[39m=\u001b[39mb\u001b[39m-\u001b[39ma\u001b[39m*\u001b[39m(np\u001b[39m.\u001b[39msum(g))\n",
      "\u001b[0;31mKeyboardInterrupt\u001b[0m: "
     ]
    }
   ],
   "source": [
    "import numpy as np\n",
    "import csv\n",
    "import math\n",
    "path=('/home/sharvanee/dataset.csv')\n",
    "with open(path, 'r') as f:\n",
    "  data= list(csv.reader(f,delimiter=','))\n",
    "data=np.array(data[1:])\n",
    "region=data[:,0]\n",
    "x=data[:,1:4].astype(float)\n",
    "y1=data[:,4].astype(float)\n",
    "y2=data[:,5].astype(float)\n",
    "def linear_regression(m,n):\n",
    "  num_rows,num_columns=m.shape\n",
    "  w=np.array([-0.26491325,0.17993239,-0.05940594])\n",
    "  b=[15]*num_rows\n",
    "  w_temp=[0]*3\n",
    "  f=np.dot(m,w)+b\n",
    "  a=0.00001\n",
    "  g=f-n\n",
    "  J=np.sum(np.dot(g,g))/2\n",
    "  J=J/num_rows\n",
    "  while(abs(J)>0.000001):\n",
    "     for k in range(3):\n",
    "       s = 0\n",
    "       for i in range(num_rows):\n",
    "          s += a*(g[i]*m[i][k])/num_rows\n",
    "     w_temp[k] = w[k] - s \n",
    "     b_temp=b-a*(np.sum(g))\n",
    "     w=w_temp\n",
    "     b=b-b_temp\n",
    "  return w,b\n",
    "w1,b1=linear_regression(x,y1)\n",
    "w2,b2=linear_regression(x,y2)\n",
    "print(w1,w2,b1,b2)"
   ]
  },
  {
   "cell_type": "code",
   "execution_count": null,
   "metadata": {},
   "outputs": [],
   "source": [
    "import numpy as np\n",
    "import csv\n",
    "import math\n",
    "path=('/home/sharvanee/dataset.csv')\n",
    "with open(path, 'r') as f:\n",
    "  data= list(csv.reader(f,delimiter=','))\n",
    "data=np.array(data[1:])\n",
    "region=data[:,0]\n",
    "x=data[:,1:4].astype(float)\n",
    "y1=data[:,4].astype(float)\n",
    "y2=data[:,5].astype(float)\n",
    "def linear_regression(m,n):\n",
    "  num_rows,num_columns=m.shape\n",
    "  w=np.array([0.3,0.8,0.1])\n",
    "  b=[5]*num_rows\n",
    "  w_temp=[0]*3\n",
    "  f=np.dot(m,w)+b\n",
    "  a=0.001\n",
    "  g=f-n\n",
    "  J=np.sum(np.dot(g,g))/2\n",
    "  J=J/num_rows\n",
    "  while(J>0.001):\n",
    "     for k in range(3):\n",
    "       s = 0\n",
    "       for i in range(num_rows):\n",
    "          s += a*(g[i]*m[i][k])/num_rows\n",
    "     w_temp[k] = w[k] - s \n",
    "     b_temp=b-a*(np.sum(g))\n",
    "     w=w_temp\n",
    "     b=b-b_temp\n",
    "  return w,b\n",
    "w1,b1=linear_regression(x,y1)\n",
    "w2,b2=linear_regression(x,y2)\n",
    "print(w1,w2,b1,b2)\n",
    "\n",
    "\n",
    "\n",
    "\n",
    "\n"
   ]
  }
 ],
 "metadata": {
  "kernelspec": {
   "display_name": "Python 3",
   "language": "python",
   "name": "python3"
  },
  "language_info": {
   "codemirror_mode": {
    "name": "ipython",
    "version": 3
   },
   "file_extension": ".py",
   "mimetype": "text/x-python",
   "name": "python",
   "nbconvert_exporter": "python",
   "pygments_lexer": "ipython3",
   "version": "3.10.6"
  },
  "orig_nbformat": 4
 },
 "nbformat": 4,
 "nbformat_minor": 2
}
