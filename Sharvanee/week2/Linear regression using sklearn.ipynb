{
 "cells": [
  {
   "cell_type": "code",
   "execution_count": 14,
   "metadata": {},
   "outputs": [
    {
     "name": "stdout",
     "output_type": "stream",
     "text": [
      "Validation set mean squared error:  26.836714466816673\n",
      "Validation set R^2 score:  0.9835626493669968\n",
      "R-squared score on test data: 0.9614245158744301\n"
     ]
    }
   ],
   "source": [
    "import numpy as np\n",
    "import csv\n",
    "import math\n",
    "from sklearn.model_selection import train_test_split\n",
    "from sklearn.linear_model import LinearRegression\n",
    "from sklearn.metrics import mean_squared_error, r2_score\n",
    "path=('/home/sharvanee/dataset.csv')\n",
    "with open(path, 'r') as f:\n",
    "  data= list(csv.reader(f,delimiter=','))\n",
    "data=np.array(data[1:])\n",
    "#astype float is used as linear regression works only on numeric\n",
    "x=data[:,2:4].astype(float) \n",
    "y1=data[:,4].astype(float) \n",
    "y2=data[:,5].astype(float) \n",
    "#Lets say that I want to split the data in 80:10:10 ratio for train:val:test\n",
    "x_train,x_test,y1_train,y1_test=train_test_split(x,y1,train_size=0.7,random_state=0)\n",
    "x_train,x_test,y2_train,y2_test=train_test_split(x,y2,train_size=0.7,random_state=0)\n",
    "#splitting test data further into test+validation\n",
    "x_train, x_val, y1_train, y1_val, y2_train, y2_val = train_test_split(x_train, y1_train, y2_train, test_size=0.25, random_state=0)\n",
    "#Using multiple linear regression\n",
    "lr = LinearRegression()\n",
    "lr.fit(x_train, y1_train)\n",
    "# Make predictions on the validation set\n",
    "y1_val_pred = lr.predict(x_val)\n",
    "# Evaluate the model performance on the validation set\n",
    "mse = mean_squared_error(y1_val, y1_val_pred)\n",
    "r2 = r2_score(y1_val, y1_val_pred)\n",
    "print(\"Validation set mean squared error: \", mse)\n",
    "print(\"Validation set R^2 score: \", r2)\n",
    "# Evaluate the model on the test data\n",
    "score = lr.score(x_test, y1_test)\n",
    "\n",
    "print(\"R-squared score on test data:\",score)"
   ]
  }
 ],
 "metadata": {
  "kernelspec": {
   "display_name": "Python 3",
   "language": "python",
   "name": "python3"
  },
  "language_info": {
   "codemirror_mode": {
    "name": "ipython",
    "version": 3
   },
   "file_extension": ".py",
   "mimetype": "text/x-python",
   "name": "python",
   "nbconvert_exporter": "python",
   "pygments_lexer": "ipython3",
   "version": "3.10.6"
  },
  "orig_nbformat": 4
 },
 "nbformat": 4,
 "nbformat_minor": 2
}
