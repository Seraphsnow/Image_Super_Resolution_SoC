import numpy as np
import math

# Code to generate n datapoints, returns an np array of n numbers ranging from 0
# to 10000
def data(n):
	x = np.random.randint(10001, size = n)
	return x
n=int(input())
x=data(n)
print("array=",x)
#Quick sort
def split_array(x,low,high):
      pivot=x[high]
      i=low-1
      for j in range(low,high):
            if x[j]<pivot:
                i+=1
                x[j],x[i]=x[i],x[j]
      x[high],x[i+1]=x[i+1],x[high]
      return i+1
def quick_sort(x,low,high):
  if high-low<1:
       return 
  partition=split_array(x,low,high)
  quick_sort(x,low,partition-1)
  quick_sort(x,partition+1,high)
quick_sort(x,0,len(x)-1)
print("sorted array=",x)                     
print("sum=",np.sum(x))
print("mean=",np.mean(x))
print("median=",np.median(x))
print("mode=",np.mode(x))
print("standard deviation=",np.std(x))
print("variance=",np.var(x))Task
