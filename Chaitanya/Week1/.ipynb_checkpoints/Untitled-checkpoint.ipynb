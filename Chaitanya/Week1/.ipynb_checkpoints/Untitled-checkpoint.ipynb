{
 "cells": [
  {
   "cell_type": "code",
   "execution_count": 1,
   "id": "72e07151",
   "metadata": {},
   "outputs": [],
   "source": [
    "import numpy as np\n",
    "from matplotlib import pyplot as plt"
   ]
  },
  {
   "cell_type": "code",
   "execution_count": 2,
   "id": "9dc56b06",
   "metadata": {},
   "outputs": [],
   "source": [
    "def data2():\n",
    "\tx = [np.random.rand()*10 for i in range(1000)]\n",
    "\ty = [(x[i])**2 + 0.05*np.random.rand() for i in range(1000)]\n",
    "\treturn [x, y]"
   ]
  },
  {
   "cell_type": "code",
   "execution_count": 3,
   "id": "0f1a3348",
   "metadata": {},
   "outputs": [],
   "source": [
    "dataset = data2()"
   ]
  },
  {
   "cell_type": "code",
   "execution_count": 4,
   "id": "33e7c873",
   "metadata": {},
   "outputs": [],
   "source": [
    "avg = np.mean(dataset, axis =1) #makes a 1-D array that has mean of the input array along axis 1\n",
    "navg = avg.reshape(2,1) #to make it a 2-D array\n",
    "stdds = dataset - navg\n",
    "print(avg)"
   ]
  },
  {
   "cell_type": "code",
   "execution_count": null,
   "id": "e784e481",
   "metadata": {},
   "outputs": [],
   "source": []
  }
 ],
 "metadata": {
  "kernelspec": {
   "display_name": "Python 3 (ipykernel)",
   "language": "python",
   "name": "python3"
  },
  "language_info": {
   "codemirror_mode": {
    "name": "ipython",
    "version": 3
   },
   "file_extension": ".py",
   "mimetype": "text/x-python",
   "name": "python",
   "nbconvert_exporter": "python",
   "pygments_lexer": "ipython3",
   "version": "3.10.6"
  }
 },
 "nbformat": 4,
 "nbformat_minor": 5
}
