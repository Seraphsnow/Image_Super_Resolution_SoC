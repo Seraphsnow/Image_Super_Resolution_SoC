{
 "cells": [
  {
   "cell_type": "code",
   "execution_count": 1,
   "id": "7f569a4c",
   "metadata": {},
   "outputs": [],
   "source": [
    "import numpy as np\n",
    "from matplotlib import pyplot as plt"
   ]
  },
  {
   "cell_type": "code",
   "execution_count": 13,
   "id": "b110652c",
   "metadata": {},
   "outputs": [],
   "source": [
    "def data2():\n",
    "\tx = [np.random.rand()*10 for i in range(10000)]\n",
    "\ty = [(x[i])**2 + 0.05*np.random.rand() for i in range(10000)]\n",
    "\treturn [x, y]"
   ]
  },
  {
   "cell_type": "code",
   "execution_count": 14,
   "id": "878e9bda",
   "metadata": {},
   "outputs": [],
   "source": [
    "dataset = data2()"
   ]
  },
  {
   "cell_type": "code",
   "execution_count": 15,
   "id": "a7fb24ff",
   "metadata": {},
   "outputs": [
    {
     "name": "stdout",
     "output_type": "stream",
     "text": [
      "[ 4.97399113 33.12214311]\n"
     ]
    }
   ],
   "source": [
    "avg = np.mean(dataset, axis =1) #makes a 1-D array that has mean of the input array along axis 1\n",
    "navg = avg.reshape(2,1) #to make it a 2-D array\n",
    "stdds = dataset - navg\n",
    "print(avg)"
   ]
  }
 ],
 "metadata": {
  "kernelspec": {
   "display_name": "Python 3 (ipykernel)",
   "language": "python",
   "name": "python3"
  },
  "language_info": {
   "codemirror_mode": {
    "name": "ipython",
    "version": 3
   },
   "file_extension": ".py",
   "mimetype": "text/x-python",
   "name": "python",
   "nbconvert_exporter": "python",
   "pygments_lexer": "ipython3",
   "version": "3.10.6"
  }
 },
 "nbformat": 4,
 "nbformat_minor": 5
}
