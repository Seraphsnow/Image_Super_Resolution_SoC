{
 "cells": [
  {
   "cell_type": "code",
   "execution_count": 8,
   "id": "f95b3483",
   "metadata": {},
   "outputs": [],
   "source": [
    "import torch\n",
    "import torch.nn as nn\n",
    "import torch.nn.functional as F\n",
    "import torchvision.datasets as datasets\n",
    "import torchvision.transforms as transforms\n",
    "import matplotlib.pyplot as plt\n",
    "import numpy as np"
   ]
  },
  {
   "cell_type": "code",
   "execution_count": 9,
   "id": "ab19a782",
   "metadata": {},
   "outputs": [],
   "source": [
    "#multiple batches make training faster\n",
    "num_epochs = 5\n",
    "batch_size = 4\n",
    "learning_rate = 0.001"
   ]
  },
  {
   "cell_type": "code",
   "execution_count": 10,
   "id": "bf90748c",
   "metadata": {},
   "outputs": [],
   "source": [
    "#tranfrom to have 0 mean and unit variance and making the arrays tensors\n",
    "transform = transforms.Compose([\n",
    "    transforms.ToTensor(),\n",
    "    transforms.Normalize((0.5,), (0.5,))\n",
    "])\n",
    "#loading data and applying the transforms \n",
    "train_dataset = datasets.MNIST(root='./data', train=True, download=True, transform=transform)\n",
    "test_dataset = datasets.MNIST(root='./data', train=False, download=True, transform=transform)\n",
    "\n",
    "train_loader = torch.utils.data.DataLoader(train_dataset, batch_size=batch_size, shuffle=True)\n",
    "test_loader = torch.utils.data.DataLoader(test_dataset, batch_size=batch_size, shuffle=False)\n",
    "#the output class NOT ONE HOT ENCODED\n",
    "classes = ('0', '1', '2', '3', '4', '5', '6', '7', '8', '9')"
   ]
  },
  {
   "cell_type": "code",
   "execution_count": 11,
   "id": "070551e1",
   "metadata": {},
   "outputs": [],
   "source": [
    "#structure of the CNN\n",
    "class ConvNet(nn.Module):\n",
    "    def __init__(self):\n",
    "        super(ConvNet, self).__init__()\n",
    "        self.conv1 = nn.Conv2d(1, 10, 5)#10 output channels one input channel since grayscale image\n",
    "        self.pool = nn.MaxPool2d(2, 2)#pooling to reduce size with strite 2\n",
    "        self.conv2 = nn.Conv2d(10, 16, 5)\n",
    "        self.fc1 = nn.Linear(16 * 4 * 4, 256)#first fully connected layer(hidden)\n",
    "        self.fc2 = nn.Linear(256,128)#second fully connected layer(hidden)\n",
    "        self.fc3 = nn.Linear(128,10)#output layer\n",
    "\n",
    "    def forward(self, x):\n",
    "        x = self.pool(F.relu(self.conv1(x)))\n",
    "        x = self.pool(F.relu(self.conv2(x)))\n",
    "        x = x.view(-1, 16 * 4 * 4)\n",
    "        x = F.relu(self.fc1(x))\n",
    "        x = F.relu(self.fc2(x))\n",
    "        x = self.fc3(x)\n",
    "        return x\n"
   ]
  },
  {
   "cell_type": "code",
   "execution_count": 12,
   "id": "561c2d86",
   "metadata": {},
   "outputs": [
    {
     "name": "stdout",
     "output_type": "stream",
     "text": [
      "Epoch [1/5], Step [2000/15000], Loss: 2.2586\n",
      "Epoch [1/5], Step [4000/15000], Loss: 2.2325\n",
      "Epoch [1/5], Step [6000/15000], Loss: 1.3859\n",
      "Epoch [1/5], Step [8000/15000], Loss: 0.4952\n",
      "Epoch [1/5], Step [10000/15000], Loss: 0.7993\n",
      "Epoch [1/5], Step [12000/15000], Loss: 0.5244\n",
      "Epoch [1/5], Step [14000/15000], Loss: 0.6856\n",
      "Epoch [2/5], Step [2000/15000], Loss: 0.0945\n",
      "Epoch [2/5], Step [4000/15000], Loss: 0.1641\n",
      "Epoch [2/5], Step [6000/15000], Loss: 0.1333\n",
      "Epoch [2/5], Step [8000/15000], Loss: 0.0482\n",
      "Epoch [2/5], Step [10000/15000], Loss: 0.0137\n",
      "Epoch [2/5], Step [12000/15000], Loss: 0.0329\n",
      "Epoch [2/5], Step [14000/15000], Loss: 0.2242\n",
      "Epoch [3/5], Step [2000/15000], Loss: 0.0446\n",
      "Epoch [3/5], Step [4000/15000], Loss: 0.0959\n",
      "Epoch [3/5], Step [6000/15000], Loss: 0.0940\n",
      "Epoch [3/5], Step [8000/15000], Loss: 0.0025\n",
      "Epoch [3/5], Step [10000/15000], Loss: 0.0513\n",
      "Epoch [3/5], Step [12000/15000], Loss: 0.0151\n",
      "Epoch [3/5], Step [14000/15000], Loss: 0.4118\n",
      "Epoch [4/5], Step [2000/15000], Loss: 0.0003\n",
      "Epoch [4/5], Step [4000/15000], Loss: 0.0021\n",
      "Epoch [4/5], Step [6000/15000], Loss: 1.3488\n",
      "Epoch [4/5], Step [8000/15000], Loss: 0.0024\n",
      "Epoch [4/5], Step [10000/15000], Loss: 0.0314\n",
      "Epoch [4/5], Step [12000/15000], Loss: 0.0104\n",
      "Epoch [4/5], Step [14000/15000], Loss: 0.0041\n",
      "Epoch [5/5], Step [2000/15000], Loss: 0.0029\n",
      "Epoch [5/5], Step [4000/15000], Loss: 0.3584\n",
      "Epoch [5/5], Step [6000/15000], Loss: 0.0002\n",
      "Epoch [5/5], Step [8000/15000], Loss: 0.7636\n",
      "Epoch [5/5], Step [10000/15000], Loss: 0.3890\n",
      "Epoch [5/5], Step [12000/15000], Loss: 0.0008\n",
      "Epoch [5/5], Step [14000/15000], Loss: 0.0001\n",
      "Finished Training\n"
     ]
    }
   ],
   "source": [
    "#defining the model\n",
    "model = ConvNet()\n",
    "#multiple class output so using CSE loss and SGD optimizer\n",
    "criterion = nn.CrossEntropyLoss()\n",
    "optimizer = torch.optim.SGD(model.parameters(), lr=learning_rate)\n",
    "#device configuration\n",
    "device = torch.device(\"cuda\" if torch.cuda.is_available() else \"cpu\")\n",
    "model.to(device)\n",
    "\n",
    "n_total_steps = len(train_loader)\n",
    "for epoch in range(num_epochs):\n",
    "    for i, (images, labels) in enumerate(train_loader):\n",
    "        images = images.to(device)\n",
    "        labels = labels.to(device)\n",
    "\n",
    "        # Forward pass\n",
    "        outputs = model(images)\n",
    "        loss = criterion(outputs, labels)\n",
    "\n",
    "        # Backward and optimize\n",
    "        optimizer.zero_grad()#empty the gradients\n",
    "        loss.backward()\n",
    "        optimizer.step()\n",
    "\n",
    "        if (i+1) % 2000 == 0:\n",
    "            print(f'Epoch [{epoch+1}/{num_epochs}], Step [{i+1}/{n_total_steps}], Loss: {loss.item():.4f}')\n",
    "\n",
    "print('Finished Training')"
   ]
  },
  {
   "cell_type": "code",
   "execution_count": 19,
   "id": "59ba2be8",
   "metadata": {},
   "outputs": [
    {
     "name": "stdout",
     "output_type": "stream",
     "text": [
      "Accuracy of the network: 98.17 %\n",
      "Accuracy of 0: 99.38775510204081 %\n",
      "Accuracy of 1: 99.29515418502203 %\n",
      "Accuracy of 2: 98.83720930232558 %\n",
      "Accuracy of 3: 98.11881188118812 %\n",
      "Accuracy of 4: 98.87983706720978 %\n",
      "Accuracy of 5: 98.87892376681614 %\n",
      "Accuracy of 6: 96.76409185803757 %\n",
      "Accuracy of 7: 97.85992217898833 %\n",
      "Accuracy of 8: 98.4599589322382 %\n",
      "Accuracy of 9: 95.14370664023787 %\n"
     ]
    }
   ],
   "source": [
    "#calculating accuracy\n",
    "with torch.no_grad():\n",
    "    n_correct = 0\n",
    "    n_samples = 0\n",
    "    n_class_correct = [0 for i in range(10)]\n",
    "    n_class_samples = [0 for i in range(10)]\n",
    "    for images, labels in test_loader:\n",
    "        images = images.to(device)\n",
    "        labels = labels.to(device)\n",
    "        outputs = model(images)\n",
    "        #calculating the index of max value\n",
    "        _, predicted = torch.max(outputs, 1)\n",
    "        n_samples += labels.size(0)\n",
    "        #overall accuracy\n",
    "        n_correct += (predicted == labels).sum().item()\n",
    "        #classwise accuracy\n",
    "        for i in range(batch_size):\n",
    "            label = labels[i]\n",
    "            pred = predicted[i]\n",
    "            if label == pred:\n",
    "                n_class_correct[label] += 1\n",
    "            n_class_samples[label] += 1\n",
    "\n",
    "    acc = 100.0 * n_correct / n_samples\n",
    "    print(f'Accuracy of the network: {acc} %')\n",
    "\n",
    "    for i in range(10):\n",
    "        acc = 100.0 * n_class_correct[i] / n_class_samples[i]\n",
    "        print(f'Accuracy of {classes[i]}: {acc} %')\n"
   ]
  },
  {
   "cell_type": "code",
   "execution_count": null,
   "id": "a3ba38ce",
   "metadata": {},
   "outputs": [],
   "source": []
  }
 ],
 "metadata": {
  "kernelspec": {
   "display_name": "Python 3 (ipykernel)",
   "language": "python",
   "name": "python3"
  },
  "language_info": {
   "codemirror_mode": {
    "name": "ipython",
    "version": 3
   },
   "file_extension": ".py",
   "mimetype": "text/x-python",
   "name": "python",
   "nbconvert_exporter": "python",
   "pygments_lexer": "ipython3",
   "version": "3.8.10"
  }
 },
 "nbformat": 4,
 "nbformat_minor": 5
}
